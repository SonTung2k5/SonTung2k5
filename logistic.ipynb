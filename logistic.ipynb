{
  "nbformat": 4,
  "nbformat_minor": 0,
  "metadata": {
    "colab": {
      "provenance": [],
      "gpuType": "T4",
      "authorship_tag": "ABX9TyNZwavW5qoqbldDf03AaAM6",
      "include_colab_link": true
    },
    "kernelspec": {
      "name": "python3",
      "display_name": "Python 3"
    },
    "language_info": {
      "name": "python"
    },
    "accelerator": "GPU"
  },
  "cells": [
    {
      "cell_type": "markdown",
      "metadata": {
        "id": "view-in-github",
        "colab_type": "text"
      },
      "source": [
        "<a href=\"https://colab.research.google.com/github/SonTung2k5/SonTung2k5/blob/main/logistic.ipynb\" target=\"_parent\"><img src=\"https://colab.research.google.com/assets/colab-badge.svg\" alt=\"Open In Colab\"/></a>"
      ]
    },
    {
      "cell_type": "code",
      "execution_count": 15,
      "metadata": {
        "id": "BInfuSu9p5Zs"
      },
      "outputs": [],
      "source": [
        "import numpy as np\n",
        "%matplotlib inline\n",
        "import matplotlib.pyplot as plt\n",
        "import pandas as pd\n",
        "import copy\n",
        "import math"
      ]
    },
    {
      "cell_type": "code",
      "source": [
        "from google.colab import files\n",
        "uploaded = files.upload()\n",
        "data = pd.read_excel(\"ex2data1.xlsx\")\n"
      ],
      "metadata": {
        "colab": {
          "base_uri": "https://localhost:8080/",
          "height": 73
        },
        "collapsed": true,
        "id": "RKWU7nbVvz8o",
        "outputId": "dcb1ade0-eb95-4cfa-c98e-6137c17454e8"
      },
      "execution_count": 16,
      "outputs": [
        {
          "output_type": "display_data",
          "data": {
            "text/plain": [
              "<IPython.core.display.HTML object>"
            ],
            "text/html": [
              "\n",
              "     <input type=\"file\" id=\"files-47ca6598-4287-4978-8580-ddaa56638e8b\" name=\"files[]\" multiple disabled\n",
              "        style=\"border:none\" />\n",
              "     <output id=\"result-47ca6598-4287-4978-8580-ddaa56638e8b\">\n",
              "      Upload widget is only available when the cell has been executed in the\n",
              "      current browser session. Please rerun this cell to enable.\n",
              "      </output>\n",
              "      <script>// Copyright 2017 Google LLC\n",
              "//\n",
              "// Licensed under the Apache License, Version 2.0 (the \"License\");\n",
              "// you may not use this file except in compliance with the License.\n",
              "// You may obtain a copy of the License at\n",
              "//\n",
              "//      http://www.apache.org/licenses/LICENSE-2.0\n",
              "//\n",
              "// Unless required by applicable law or agreed to in writing, software\n",
              "// distributed under the License is distributed on an \"AS IS\" BASIS,\n",
              "// WITHOUT WARRANTIES OR CONDITIONS OF ANY KIND, either express or implied.\n",
              "// See the License for the specific language governing permissions and\n",
              "// limitations under the License.\n",
              "\n",
              "/**\n",
              " * @fileoverview Helpers for google.colab Python module.\n",
              " */\n",
              "(function(scope) {\n",
              "function span(text, styleAttributes = {}) {\n",
              "  const element = document.createElement('span');\n",
              "  element.textContent = text;\n",
              "  for (const key of Object.keys(styleAttributes)) {\n",
              "    element.style[key] = styleAttributes[key];\n",
              "  }\n",
              "  return element;\n",
              "}\n",
              "\n",
              "// Max number of bytes which will be uploaded at a time.\n",
              "const MAX_PAYLOAD_SIZE = 100 * 1024;\n",
              "\n",
              "function _uploadFiles(inputId, outputId) {\n",
              "  const steps = uploadFilesStep(inputId, outputId);\n",
              "  const outputElement = document.getElementById(outputId);\n",
              "  // Cache steps on the outputElement to make it available for the next call\n",
              "  // to uploadFilesContinue from Python.\n",
              "  outputElement.steps = steps;\n",
              "\n",
              "  return _uploadFilesContinue(outputId);\n",
              "}\n",
              "\n",
              "// This is roughly an async generator (not supported in the browser yet),\n",
              "// where there are multiple asynchronous steps and the Python side is going\n",
              "// to poll for completion of each step.\n",
              "// This uses a Promise to block the python side on completion of each step,\n",
              "// then passes the result of the previous step as the input to the next step.\n",
              "function _uploadFilesContinue(outputId) {\n",
              "  const outputElement = document.getElementById(outputId);\n",
              "  const steps = outputElement.steps;\n",
              "\n",
              "  const next = steps.next(outputElement.lastPromiseValue);\n",
              "  return Promise.resolve(next.value.promise).then((value) => {\n",
              "    // Cache the last promise value to make it available to the next\n",
              "    // step of the generator.\n",
              "    outputElement.lastPromiseValue = value;\n",
              "    return next.value.response;\n",
              "  });\n",
              "}\n",
              "\n",
              "/**\n",
              " * Generator function which is called between each async step of the upload\n",
              " * process.\n",
              " * @param {string} inputId Element ID of the input file picker element.\n",
              " * @param {string} outputId Element ID of the output display.\n",
              " * @return {!Iterable<!Object>} Iterable of next steps.\n",
              " */\n",
              "function* uploadFilesStep(inputId, outputId) {\n",
              "  const inputElement = document.getElementById(inputId);\n",
              "  inputElement.disabled = false;\n",
              "\n",
              "  const outputElement = document.getElementById(outputId);\n",
              "  outputElement.innerHTML = '';\n",
              "\n",
              "  const pickedPromise = new Promise((resolve) => {\n",
              "    inputElement.addEventListener('change', (e) => {\n",
              "      resolve(e.target.files);\n",
              "    });\n",
              "  });\n",
              "\n",
              "  const cancel = document.createElement('button');\n",
              "  inputElement.parentElement.appendChild(cancel);\n",
              "  cancel.textContent = 'Cancel upload';\n",
              "  const cancelPromise = new Promise((resolve) => {\n",
              "    cancel.onclick = () => {\n",
              "      resolve(null);\n",
              "    };\n",
              "  });\n",
              "\n",
              "  // Wait for the user to pick the files.\n",
              "  const files = yield {\n",
              "    promise: Promise.race([pickedPromise, cancelPromise]),\n",
              "    response: {\n",
              "      action: 'starting',\n",
              "    }\n",
              "  };\n",
              "\n",
              "  cancel.remove();\n",
              "\n",
              "  // Disable the input element since further picks are not allowed.\n",
              "  inputElement.disabled = true;\n",
              "\n",
              "  if (!files) {\n",
              "    return {\n",
              "      response: {\n",
              "        action: 'complete',\n",
              "      }\n",
              "    };\n",
              "  }\n",
              "\n",
              "  for (const file of files) {\n",
              "    const li = document.createElement('li');\n",
              "    li.append(span(file.name, {fontWeight: 'bold'}));\n",
              "    li.append(span(\n",
              "        `(${file.type || 'n/a'}) - ${file.size} bytes, ` +\n",
              "        `last modified: ${\n",
              "            file.lastModifiedDate ? file.lastModifiedDate.toLocaleDateString() :\n",
              "                                    'n/a'} - `));\n",
              "    const percent = span('0% done');\n",
              "    li.appendChild(percent);\n",
              "\n",
              "    outputElement.appendChild(li);\n",
              "\n",
              "    const fileDataPromise = new Promise((resolve) => {\n",
              "      const reader = new FileReader();\n",
              "      reader.onload = (e) => {\n",
              "        resolve(e.target.result);\n",
              "      };\n",
              "      reader.readAsArrayBuffer(file);\n",
              "    });\n",
              "    // Wait for the data to be ready.\n",
              "    let fileData = yield {\n",
              "      promise: fileDataPromise,\n",
              "      response: {\n",
              "        action: 'continue',\n",
              "      }\n",
              "    };\n",
              "\n",
              "    // Use a chunked sending to avoid message size limits. See b/62115660.\n",
              "    let position = 0;\n",
              "    do {\n",
              "      const length = Math.min(fileData.byteLength - position, MAX_PAYLOAD_SIZE);\n",
              "      const chunk = new Uint8Array(fileData, position, length);\n",
              "      position += length;\n",
              "\n",
              "      const base64 = btoa(String.fromCharCode.apply(null, chunk));\n",
              "      yield {\n",
              "        response: {\n",
              "          action: 'append',\n",
              "          file: file.name,\n",
              "          data: base64,\n",
              "        },\n",
              "      };\n",
              "\n",
              "      let percentDone = fileData.byteLength === 0 ?\n",
              "          100 :\n",
              "          Math.round((position / fileData.byteLength) * 100);\n",
              "      percent.textContent = `${percentDone}% done`;\n",
              "\n",
              "    } while (position < fileData.byteLength);\n",
              "  }\n",
              "\n",
              "  // All done.\n",
              "  yield {\n",
              "    response: {\n",
              "      action: 'complete',\n",
              "    }\n",
              "  };\n",
              "}\n",
              "\n",
              "scope.google = scope.google || {};\n",
              "scope.google.colab = scope.google.colab || {};\n",
              "scope.google.colab._files = {\n",
              "  _uploadFiles,\n",
              "  _uploadFilesContinue,\n",
              "};\n",
              "})(self);\n",
              "</script> "
            ]
          },
          "metadata": {}
        },
        {
          "output_type": "stream",
          "name": "stdout",
          "text": [
            "Saving ex2data1.xlsx to ex2data1 (1).xlsx\n"
          ]
        }
      ]
    },
    {
      "cell_type": "code",
      "source": [
        "arr = np.array(data)\n",
        "arr"
      ],
      "metadata": {
        "colab": {
          "base_uri": "https://localhost:8080/"
        },
        "collapsed": true,
        "id": "0zvl-OXGw7so",
        "outputId": "01d8d4b5-998b-4b78-f5ff-dd2321e4da35"
      },
      "execution_count": 17,
      "outputs": [
        {
          "output_type": "execute_result",
          "data": {
            "text/plain": [
              "array([[34.62365962, 78.02469282,  0.        ],\n",
              "       [30.28671077, 43.89499752,  0.        ],\n",
              "       [35.84740877, 72.90219803,  0.        ],\n",
              "       [60.18259939, 86.3085521 ,  1.        ],\n",
              "       [79.03273605, 75.34437644,  1.        ],\n",
              "       [45.08327748, 56.31637178,  0.        ],\n",
              "       [61.10666454, 96.51142588,  1.        ],\n",
              "       [75.02474557, 46.55401354,  1.        ],\n",
              "       [76.0987867 , 87.42056972,  1.        ],\n",
              "       [84.43281996, 43.53339331,  1.        ],\n",
              "       [95.86155507, 38.22527806,  0.        ],\n",
              "       [75.01365839, 30.60326323,  0.        ],\n",
              "       [82.30705337, 76.4819633 ,  1.        ],\n",
              "       [69.36458876, 97.71869196,  1.        ],\n",
              "       [39.53833914, 76.03681085,  0.        ],\n",
              "       [53.97105215, 89.20735014,  1.        ],\n",
              "       [69.07014406, 52.74046973,  1.        ],\n",
              "       [67.94685548, 46.67857411,  0.        ],\n",
              "       [70.66150955, 92.92713789,  1.        ],\n",
              "       [76.97878373, 47.57596365,  1.        ],\n",
              "       [67.37202755, 42.83843832,  0.        ],\n",
              "       [89.67677575, 65.79936593,  1.        ],\n",
              "       [50.53478829, 48.85581153,  0.        ],\n",
              "       [34.21206098, 44.2095286 ,  0.        ],\n",
              "       [77.92409145, 68.97235999,  1.        ],\n",
              "       [62.27101367, 69.95445795,  1.        ],\n",
              "       [80.19018075, 44.82162893,  1.        ],\n",
              "       [93.1143888 , 38.80067034,  0.        ],\n",
              "       [61.83020602, 50.25610789,  0.        ],\n",
              "       [38.7858038 , 64.99568096,  0.        ],\n",
              "       [61.37928945, 72.80788731,  1.        ],\n",
              "       [85.40451939, 57.05198398,  1.        ],\n",
              "       [52.10797973, 63.12762377,  0.        ],\n",
              "       [52.04540477, 69.43286012,  1.        ],\n",
              "       [40.23689374, 71.16774802,  0.        ],\n",
              "       [54.63510555, 52.21388588,  0.        ],\n",
              "       [33.91550011, 98.86943574,  0.        ],\n",
              "       [64.17698887, 80.90806059,  1.        ],\n",
              "       [74.78925296, 41.57341523,  0.        ],\n",
              "       [34.18364003, 75.23772034,  0.        ],\n",
              "       [83.90239366, 56.30804622,  1.        ],\n",
              "       [51.54772027, 46.85629026,  0.        ],\n",
              "       [94.44336777, 65.56892161,  1.        ],\n",
              "       [82.36875376, 40.61825516,  0.        ],\n",
              "       [51.04775177, 45.82270146,  0.        ],\n",
              "       [62.22267576, 52.06099195,  0.        ],\n",
              "       [77.19303493, 70.4582    ,  1.        ],\n",
              "       [97.77159928, 86.72782233,  1.        ],\n",
              "       [62.0730638 , 96.76882412,  1.        ],\n",
              "       [91.5649745 , 88.69629255,  1.        ],\n",
              "       [79.94481794, 74.16311935,  1.        ],\n",
              "       [99.27252693, 60.999031  ,  1.        ],\n",
              "       [90.54671411, 43.39060181,  1.        ],\n",
              "       [34.52451385, 60.39634246,  0.        ],\n",
              "       [50.28649612, 49.80453881,  0.        ],\n",
              "       [49.58667722, 59.80895099,  0.        ],\n",
              "       [97.64563396, 68.86157272,  1.        ],\n",
              "       [32.57720017, 95.59854761,  0.        ],\n",
              "       [74.24869137, 69.82457123,  1.        ],\n",
              "       [71.79646206, 78.45356225,  1.        ],\n",
              "       [75.39561147, 85.75993667,  1.        ],\n",
              "       [35.28611282, 47.02051395,  0.        ],\n",
              "       [56.2538175 , 39.26147251,  0.        ],\n",
              "       [30.05882245, 49.59297387,  0.        ],\n",
              "       [44.66826172, 66.45008615,  0.        ],\n",
              "       [66.56089447, 41.09209808,  0.        ],\n",
              "       [40.45755098, 97.53518549,  1.        ],\n",
              "       [49.07256322, 51.88321182,  0.        ],\n",
              "       [80.27957401, 92.11606081,  1.        ],\n",
              "       [66.74671857, 60.99139403,  1.        ],\n",
              "       [32.72283304, 43.30717306,  0.        ],\n",
              "       [64.03932042, 78.03168802,  1.        ],\n",
              "       [72.34649423, 96.22759297,  1.        ],\n",
              "       [60.45788574, 73.0949981 ,  1.        ],\n",
              "       [58.84095622, 75.85844831,  1.        ],\n",
              "       [99.8278578 , 72.36925193,  1.        ],\n",
              "       [47.26426911, 88.475865  ,  1.        ],\n",
              "       [50.4581598 , 75.80985953,  1.        ],\n",
              "       [60.45555629, 42.50840944,  0.        ],\n",
              "       [82.22666158, 42.71987854,  0.        ],\n",
              "       [88.91389642, 69.8037889 ,  1.        ],\n",
              "       [94.83450672, 45.6943068 ,  1.        ],\n",
              "       [67.31925747, 66.58935318,  1.        ],\n",
              "       [57.23870632, 59.51428198,  1.        ],\n",
              "       [80.366756  , 90.9601479 ,  1.        ],\n",
              "       [68.46852179, 85.5943071 ,  1.        ],\n",
              "       [42.07545454, 78.844786  ,  0.        ],\n",
              "       [75.47770201, 90.424539  ,  1.        ],\n",
              "       [78.63542435, 96.64742717,  1.        ],\n",
              "       [52.34800399, 60.76950526,  0.        ],\n",
              "       [94.09433113, 77.15910509,  1.        ],\n",
              "       [90.44855097, 87.50879176,  1.        ],\n",
              "       [55.48216114, 35.57070347,  0.        ],\n",
              "       [74.49269242, 84.84513685,  1.        ],\n",
              "       [89.84580671, 45.35828361,  1.        ],\n",
              "       [83.48916274, 48.3802858 ,  1.        ],\n",
              "       [42.26170081, 87.10385094,  1.        ],\n",
              "       [99.31500881, 68.77540947,  1.        ],\n",
              "       [55.34001756, 64.93193801,  1.        ],\n",
              "       [74.775893  , 89.5298129 ,  1.        ]])"
            ]
          },
          "metadata": {},
          "execution_count": 17
        }
      ]
    },
    {
      "cell_type": "code",
      "source": [
        "X_vals = data.iloc[:,:-1].values  # Features\n",
        "y_vals = data.iloc[:,-1].values   # Target"
      ],
      "metadata": {
        "id": "oYF9UgwQzYcO"
      },
      "execution_count": 18,
      "outputs": []
    },
    {
      "cell_type": "code",
      "source": [
        "X_vals"
      ],
      "metadata": {
        "colab": {
          "base_uri": "https://localhost:8080/"
        },
        "collapsed": true,
        "id": "8R6N7sG8zhZK",
        "outputId": "b8baac1b-6d11-47c9-9433-b83c0f812f7c"
      },
      "execution_count": 19,
      "outputs": [
        {
          "output_type": "execute_result",
          "data": {
            "text/plain": [
              "array([[34.62365962, 78.02469282],\n",
              "       [30.28671077, 43.89499752],\n",
              "       [35.84740877, 72.90219803],\n",
              "       [60.18259939, 86.3085521 ],\n",
              "       [79.03273605, 75.34437644],\n",
              "       [45.08327748, 56.31637178],\n",
              "       [61.10666454, 96.51142588],\n",
              "       [75.02474557, 46.55401354],\n",
              "       [76.0987867 , 87.42056972],\n",
              "       [84.43281996, 43.53339331],\n",
              "       [95.86155507, 38.22527806],\n",
              "       [75.01365839, 30.60326323],\n",
              "       [82.30705337, 76.4819633 ],\n",
              "       [69.36458876, 97.71869196],\n",
              "       [39.53833914, 76.03681085],\n",
              "       [53.97105215, 89.20735014],\n",
              "       [69.07014406, 52.74046973],\n",
              "       [67.94685548, 46.67857411],\n",
              "       [70.66150955, 92.92713789],\n",
              "       [76.97878373, 47.57596365],\n",
              "       [67.37202755, 42.83843832],\n",
              "       [89.67677575, 65.79936593],\n",
              "       [50.53478829, 48.85581153],\n",
              "       [34.21206098, 44.2095286 ],\n",
              "       [77.92409145, 68.97235999],\n",
              "       [62.27101367, 69.95445795],\n",
              "       [80.19018075, 44.82162893],\n",
              "       [93.1143888 , 38.80067034],\n",
              "       [61.83020602, 50.25610789],\n",
              "       [38.7858038 , 64.99568096],\n",
              "       [61.37928945, 72.80788731],\n",
              "       [85.40451939, 57.05198398],\n",
              "       [52.10797973, 63.12762377],\n",
              "       [52.04540477, 69.43286012],\n",
              "       [40.23689374, 71.16774802],\n",
              "       [54.63510555, 52.21388588],\n",
              "       [33.91550011, 98.86943574],\n",
              "       [64.17698887, 80.90806059],\n",
              "       [74.78925296, 41.57341523],\n",
              "       [34.18364003, 75.23772034],\n",
              "       [83.90239366, 56.30804622],\n",
              "       [51.54772027, 46.85629026],\n",
              "       [94.44336777, 65.56892161],\n",
              "       [82.36875376, 40.61825516],\n",
              "       [51.04775177, 45.82270146],\n",
              "       [62.22267576, 52.06099195],\n",
              "       [77.19303493, 70.4582    ],\n",
              "       [97.77159928, 86.72782233],\n",
              "       [62.0730638 , 96.76882412],\n",
              "       [91.5649745 , 88.69629255],\n",
              "       [79.94481794, 74.16311935],\n",
              "       [99.27252693, 60.999031  ],\n",
              "       [90.54671411, 43.39060181],\n",
              "       [34.52451385, 60.39634246],\n",
              "       [50.28649612, 49.80453881],\n",
              "       [49.58667722, 59.80895099],\n",
              "       [97.64563396, 68.86157272],\n",
              "       [32.57720017, 95.59854761],\n",
              "       [74.24869137, 69.82457123],\n",
              "       [71.79646206, 78.45356225],\n",
              "       [75.39561147, 85.75993667],\n",
              "       [35.28611282, 47.02051395],\n",
              "       [56.2538175 , 39.26147251],\n",
              "       [30.05882245, 49.59297387],\n",
              "       [44.66826172, 66.45008615],\n",
              "       [66.56089447, 41.09209808],\n",
              "       [40.45755098, 97.53518549],\n",
              "       [49.07256322, 51.88321182],\n",
              "       [80.27957401, 92.11606081],\n",
              "       [66.74671857, 60.99139403],\n",
              "       [32.72283304, 43.30717306],\n",
              "       [64.03932042, 78.03168802],\n",
              "       [72.34649423, 96.22759297],\n",
              "       [60.45788574, 73.0949981 ],\n",
              "       [58.84095622, 75.85844831],\n",
              "       [99.8278578 , 72.36925193],\n",
              "       [47.26426911, 88.475865  ],\n",
              "       [50.4581598 , 75.80985953],\n",
              "       [60.45555629, 42.50840944],\n",
              "       [82.22666158, 42.71987854],\n",
              "       [88.91389642, 69.8037889 ],\n",
              "       [94.83450672, 45.6943068 ],\n",
              "       [67.31925747, 66.58935318],\n",
              "       [57.23870632, 59.51428198],\n",
              "       [80.366756  , 90.9601479 ],\n",
              "       [68.46852179, 85.5943071 ],\n",
              "       [42.07545454, 78.844786  ],\n",
              "       [75.47770201, 90.424539  ],\n",
              "       [78.63542435, 96.64742717],\n",
              "       [52.34800399, 60.76950526],\n",
              "       [94.09433113, 77.15910509],\n",
              "       [90.44855097, 87.50879176],\n",
              "       [55.48216114, 35.57070347],\n",
              "       [74.49269242, 84.84513685],\n",
              "       [89.84580671, 45.35828361],\n",
              "       [83.48916274, 48.3802858 ],\n",
              "       [42.26170081, 87.10385094],\n",
              "       [99.31500881, 68.77540947],\n",
              "       [55.34001756, 64.93193801],\n",
              "       [74.775893  , 89.5298129 ]])"
            ]
          },
          "metadata": {},
          "execution_count": 19
        }
      ]
    },
    {
      "cell_type": "code",
      "source": [
        "y_vals"
      ],
      "metadata": {
        "colab": {
          "base_uri": "https://localhost:8080/"
        },
        "collapsed": true,
        "id": "kYbLpiaizkqR",
        "outputId": "654484b7-917b-479b-ab9c-a5b804e2c5c2"
      },
      "execution_count": 20,
      "outputs": [
        {
          "output_type": "execute_result",
          "data": {
            "text/plain": [
              "array([0, 0, 0, 1, 1, 0, 1, 1, 1, 1, 0, 0, 1, 1, 0, 1, 1, 0, 1, 1, 0, 1,\n",
              "       0, 0, 1, 1, 1, 0, 0, 0, 1, 1, 0, 1, 0, 0, 0, 1, 0, 0, 1, 0, 1, 0,\n",
              "       0, 0, 1, 1, 1, 1, 1, 1, 1, 0, 0, 0, 1, 0, 1, 1, 1, 0, 0, 0, 0, 0,\n",
              "       1, 0, 1, 1, 0, 1, 1, 1, 1, 1, 1, 1, 0, 0, 1, 1, 1, 1, 1, 1, 0, 1,\n",
              "       1, 0, 1, 1, 0, 1, 1, 1, 1, 1, 1, 1])"
            ]
          },
          "metadata": {},
          "execution_count": 20
        }
      ]
    },
    {
      "cell_type": "code",
      "source": [
        "# @title\n",
        "\n",
        "plt.scatter(data['mark1'], data['mark2'], c=data['admission'], cmap='viridis')\n",
        "\n",
        "# Add titles and labels\n",
        "plt.title('Data of Admission')\n",
        "plt.xlabel('Exam 1')  # X-axis label\n",
        "plt.ylabel('Exam 2')  # Y-axis label\n",
        "\n",
        "# Add a color bar to show the target values\n",
        "plt.colorbar(label='Target')\n",
        "\n",
        "# Show the plot\n",
        "plt.show()\n"
      ],
      "metadata": {
        "colab": {
          "base_uri": "https://localhost:8080/",
          "height": 472
        },
        "id": "9l5CVJyR55nN",
        "outputId": "d795247b-a7b8-4bc7-a3a6-ea94d2ee1cc4"
      },
      "execution_count": 21,
      "outputs": [
        {
          "output_type": "display_data",
          "data": {
            "text/plain": [
              "<Figure size 640x480 with 2 Axes>"
            ],
            "image/png": "[encoded data removed]"
          },
          "metadata": {}
        }
      ]
    },
    {
      "cell_type": "code",
      "source": [
        "from sklearn.model_selection import train_test_split\n",
        "X_train, X_test, y_train, y_test = train_test_split(\n",
        "    X_vals, y_vals, test_size=0.25, random_state=0\n",
        ")"
      ],
      "metadata": {
        "id": "Af2QrQJl0Txm"
      },
      "execution_count": 22,
      "outputs": []
    },
    {
      "cell_type": "code",
      "source": [
        "def sigmoid(x):\n",
        "  return 1/(1+ np.exp(-x))"
      ],
      "metadata": {
        "id": "xK1Thr-1ZwhO"
      },
      "execution_count": 23,
      "outputs": []
    },
    {
      "cell_type": "code",
      "source": [
        "def compute_cost_logistic(X, y, w, b):\n",
        "    \"\"\"\n",
        "    Computes cost\n",
        "\n",
        "    Args:\n",
        "    X (ndarray): Shape (m, n) matrix of examples with n features\n",
        "    y (ndarray): Shape (m,) target values\n",
        "    w (ndarray): Shape (n,) parameters for prediction\n",
        "    b (scalar): parameter for prediction\n",
        "\n",
        "    Returns:\n",
        "    cost (scalar): cost\n",
        "    \"\"\"\n",
        "    m = X.shape[0]\n",
        "    cost = 0.0\n",
        "    for i in range(m):\n",
        "        z_i = np.dot(X[i], w) + b\n",
        "        f_wb_i = sigmoid(z_i)\n",
        "        cost += -y[i] * np.log(f_wb_i) - (1 - y[i]) * np.log(1 - f_wb_i)\n",
        "\n",
        "    cost = (1 / m) * cost\n",
        "    return cost\n"
      ],
      "metadata": {
        "id": "SEOCvpPl2yvb"
      },
      "execution_count": 24,
      "outputs": []
    },
    {
      "cell_type": "code",
      "source": [
        "def compute_gradient_logistic(X, y, w, b):\n",
        "    \"\"\"\n",
        "    Computes the gradient for linear regression\n",
        "\n",
        "    Args:\n",
        "    X : (ndarray Shape (m,n)) variable such as house size\n",
        "    y : (ndarray Shape (m,)) actual value\n",
        "    w : (ndarray Shape (n,)) parameters of the model\n",
        "    b : (scalar) parameter of the model\n",
        "\n",
        "    Returns:\n",
        "    dj_dw: (ndarray Shape (n,)) The gradient of the cost w.r.t. the parameters w\n",
        "    dj_db: (scalar) The gradient of the cost w.r.t. the parameter b\n",
        "    \"\"\"\n",
        "    m, n = X.shape\n",
        "    dj_dw = np.zeros((n,))\n",
        "    dj_db = 0.\n",
        "\n",
        "    for i in range(m):\n",
        "        f_wb_i = sigmoid(np.dot(X[i], w) + b)\n",
        "        err_i = f_wb_i - y[i]\n",
        "        for j in range(n):\n",
        "            dj_dw[j] = dj_dw[j] + err_i * X[i, j]\n",
        "        dj_db = dj_db + err_i\n",
        "    dj_dw = dj_dw / m\n",
        "    dj_db = dj_db / m\n",
        "\n",
        "    return dj_db, dj_dw\n"
      ],
      "metadata": {
        "id": "UI7AuzGVaMko"
      },
      "execution_count": 25,
      "outputs": []
    },
    {
      "cell_type": "code",
      "source": [
        "def gradient_descent(X, y, w_in, b_in, alpha, num_iters):\n",
        "    \"\"\"\n",
        "    Performs batch gradient descent.\n",
        "\n",
        "    Args:\n",
        "    X (ndarray): Shape (m, n), matrix of examples\n",
        "    y (ndarray): Shape (m,), target values\n",
        "    w_in (ndarray): Shape (n,), initial values of parameters of the model\n",
        "    b_in (scalar): Initial value of parameter of the model\n",
        "    alpha (float): Learning rate\n",
        "    num_iters (int): Number of iterations to run gradient descent\n",
        "\n",
        "    Returns:\n",
        "    w (ndarray): Shape (n,), updated values of parameters\n",
        "    b (scalar): Updated value of parameter\n",
        "\n",
        "    \"\"\"\n",
        "    # Number of training examples\n",
        "    m = len(X)\n",
        "\n",
        "    J_history = []\n",
        "    # Initialize weights and bias\n",
        "    w = copy.deepcopy(w_in)  # Avoid modifying global w\n",
        "    b = b_in\n",
        "\n",
        "    for i in range(num_iters):\n",
        "        # Calculate the gradient and update the parameters\n",
        "        dj_db, dj_dw = compute_gradient_logistic(X, y, w, b)  # Compute gradients\n",
        "\n",
        "        # Update parameters using the gradients and learning rate\n",
        "        w = w - alpha * dj_dw\n",
        "        b = b - alpha * dj_db\n",
        "\n",
        "        # Save the cost at each iteration\n",
        "        if i < 100000:  # Prevent excessive memory usage\n",
        "            J_history.append(compute_cost_logistic(X, y, w, b))\n",
        "\n",
        "        # Print cost at intervals (10 times or fewer during training)\n",
        "        if i % math.ceil(num_iters / 10) == 0:\n",
        "            print(f\"Iteration {i:4d}: Cost {J_history[-1]}   \")\n",
        "\n",
        "    return w, b, J_history,  # Return final weights, bias, and cost history\n"
      ],
      "metadata": {
        "id": "39X3N6zYdkv6"
      },
      "execution_count": 26,
      "outputs": []
    },
    {
      "cell_type": "code",
      "source": [
        "\n",
        "w_in = np.zeros_like(X_train[0])\n",
        "b_in = 0\n",
        "alpha = 0.1\n",
        "num_iters = 10000\n",
        "w_out, b_out, _ = gradient_descent(X_train, y_train, w_in, b_in, alpha, num_iters)\n",
        "print (f\"\\nupdated parameters: w:{w_out}, b:{b_out}\")"
      ],
      "metadata": {
        "colab": {
          "base_uri": "https://localhost:8080/"
        },
        "id": "nFkMI7qbelfn",
        "outputId": "98d3d6f3-2c4f-48d4-fd07-a8545152efce"
      },
      "execution_count": 27,
      "outputs": [
        {
          "output_type": "stream",
          "name": "stderr",
          "text": [
            "<ipython-input-24-4d476d4b3a9a>:19: RuntimeWarning: divide by zero encountered in log\n",
            "  cost += -y[i] * np.log(f_wb_i) - (1 - y[i]) * np.log(1 - f_wb_i)\n",
            "<ipython-input-24-4d476d4b3a9a>:19: RuntimeWarning: invalid value encountered in scalar multiply\n",
            "  cost += -y[i] * np.log(f_wb_i) - (1 - y[i]) * np.log(1 - f_wb_i)\n"
          ]
        },
        {
          "output_type": "stream",
          "name": "stdout",
          "text": [
            "Iteration    0: Cost nan   \n",
            "Iteration 1000: Cost 5.473180169211162   \n",
            "Iteration 2000: Cost 92.06360657106462   \n",
            "Iteration 3000: Cost nan   \n",
            "Iteration 4000: Cost nan   \n",
            "Iteration 5000: Cost nan   \n",
            "Iteration 6000: Cost nan   \n",
            "Iteration 7000: Cost nan   \n",
            "Iteration 8000: Cost nan   \n",
            "Iteration 9000: Cost nan   \n",
            "\n",
            "updated parameters: w:[2.23813236 1.62306113], b:-73.24640457879619\n"
          ]
        }
      ]
    },
    {
      "cell_type": "code",
      "source": [
        "# @title\n",
        "w1, w2 = w_out[0], w_out[1]\n",
        "b = b_in\n",
        "plt.scatter(data['mark1'], data['mark2'], c=data['admission'], cmap='viridis')\n",
        "\n",
        "# Add titles and labels\n",
        "plt.title('Data of Admission')\n",
        "plt.xlabel('Exam 1')  # X-axis label\n",
        "plt.ylabel('Exam 2')  # Y-axis label\n",
        "x1_vals = np.linspace(data['mark1'].min(), data['mark1'].max(), 100)\n",
        "\n",
        "# Calculate x2 for the decision boundary\n",
        "x2_vals = -(w1 / w2) * x1_vals - (b / w2)\n",
        "\n",
        "# Plot the decision boundary\n",
        "plt.plot(x1_vals, x2_vals, color='red', label='Decision Boundary')\n",
        "# Add a color bar to show the target values\n",
        "plt.colorbar(label='Target')\n",
        "\n",
        "# Show the plot\n",
        "plt.show()\n"
      ],
      "metadata": {
        "colab": {
          "base_uri": "https://localhost:8080/",
          "height": 472
        },
        "id": "xsF5gwaGiZIS",
        "outputId": "032dd724-3561-4dc8-db60-ee9dfebe640d"
      },
      "execution_count": 28,
      "outputs": [
        {
          "output_type": "display_data",
          "data": {
            "text/plain": [
              "<Figure size 640x480 with 2 Axes>"
            ],
            "image/png": "[encoded data removed]"
          },
          "metadata": {}
        }
      ]
    }
  ]
}